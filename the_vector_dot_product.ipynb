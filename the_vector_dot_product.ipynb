{
 "cells": [
  {
   "cell_type": "code",
   "execution_count": null,
   "metadata": {},
   "outputs": [],
   "source": [
    "# notation for and definition of the dot product\n",
    "# a transpose * b = a1*b1 + a2*b2 + a3*b3...an*bn\n"
   ]
  },
  {
   "cell_type": "code",
   "execution_count": 4,
   "metadata": {},
   "outputs": [
    {
     "data": {
      "text/plain": [
       "25"
      ]
     },
     "execution_count": 4,
     "metadata": {},
     "output_type": "execute_result"
    }
   ],
   "source": [
    "import numpy as np\n",
    "import matplotlib.pyplot as pyplot\n",
    "\n",
    "v1 = np.array([5,6,2])\n",
    "v2 = np.array([3,0,5])\n",
    "\n",
    "np.dot(v1,v2)"
   ]
  },
  {
   "cell_type": "code",
   "execution_count": 5,
   "metadata": {},
   "outputs": [
    {
     "data": {
      "text/plain": [
       "-7"
      ]
     },
     "execution_count": 5,
     "metadata": {},
     "output_type": "execute_result"
    }
   ],
   "source": [
    "v3 = np.array([-4,3,1])\n",
    "np.dot(v2,v3)"
   ]
  },
  {
   "cell_type": "code",
   "execution_count": 6,
   "metadata": {},
   "outputs": [
    {
     "data": {
      "text/plain": [
       "0"
      ]
     },
     "execution_count": 6,
     "metadata": {},
     "output_type": "execute_result"
    }
   ],
   "source": [
    "v4 = np.array([0,0,0])\n",
    "np.dot(v3,v4)\n"
   ]
  },
  {
   "cell_type": "code",
   "execution_count": 7,
   "metadata": {},
   "outputs": [
    {
     "data": {
      "text/plain": [
       "0"
      ]
     },
     "execution_count": 7,
     "metadata": {},
     "output_type": "execute_result"
    }
   ],
   "source": [
    "v3 = np.array([-4,3,1])\n",
    "v5 = np.array ([2,3,-1,])\n",
    "np.dot(v3,v5)\n",
    "# vector v3 is orthogonal to v5"
   ]
  },
  {
   "cell_type": "code",
   "execution_count": null,
   "metadata": {},
   "outputs": [],
   "source": [
    "#assigment \n",
    "# 1. create 2d vectors , two of them are orthogonal,\n",
    "# but neither\n",
    "# is orthogonal to the third.\n",
    "#plot all three vectors using matplotlib"
   ]
  },
  {
   "cell_type": "code",
   "execution_count": 20,
   "metadata": {},
   "outputs": [
    {
     "name": "stdout",
     "output_type": "stream",
     "text": [
      "0\n",
      "-4\n",
      "11\n"
     ]
    },
    {
     "data": {
      "image/png": "[encoded data removed]",
      "text/plain": [
       "<Figure size 640x480 with 1 Axes>"
      ]
     },
     "metadata": {},
     "output_type": "display_data"
    }
   ],
   "source": [
    "import matplotlib.pyplot as pyplot\n",
    "v11= np.array([-4,2])\n",
    "v22= np.array([1,2])\n",
    "v33= np.array([3,4])\n",
    "orthogonal = np.dot(v11,v22)\n",
    "non_orthogonal = np.dot(v11,v33)\n",
    "non_orthogonal1 = np.dot(v22,v33)\n",
    "print(orthogonal) \n",
    "print(non_orthogonal)\n",
    "print(non_orthogonal1)\n",
    "\n",
    "\n",
    "pyplot.plot([0,v11[0]],[0,v11[1]],\"bs-\",label=\"v11\")\n",
    "pyplot.plot([0,v22[0]],[0,v22[1]],\"ro-\",label=\"v22\")\n",
    "pyplot.plot([0,v33[0]],[0,v33[1]],\"g*-\",label=\"v33\")\n",
    "pyplot.axis(\"square\")\n",
    "pyplot.xlim (-5,5)\n",
    "pyplot.ylim (-5,5)\n",
    "pyplot.grid()\n",
    "pyplot.legend()\n",
    "pyplot.show()\n"
   ]
  }
 ],
 "metadata": {
  "kernelspec": {
   "display_name": "virtual_space",
   "language": "python",
   "name": "python3"
  },
  "language_info": {
   "codemirror_mode": {
    "name": "ipython",
    "version": 3
   },
   "file_extension": ".py",
   "mimetype": "text/x-python",
   "name": "python",
   "nbconvert_exporter": "python",
   "pygments_lexer": "ipython3",
   "version": "3.11.6"
  }
 },
 "nbformat": 4,
 "nbformat_minor": 2
}
