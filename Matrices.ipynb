{
 "cells": [
  {
   "cell_type": "markdown",
   "metadata": {},
   "source": [
    "# diagonal square  # diagonal rectagular  \n",
    "# |3 0 0 1 |       #|3 0 0 0 1 2 3| \n",
    "# |0 4 0 0 |       #|3 4 0 0 3 4 5| \n",
    "# |1 1 3 0 |       #|3 0 6 0 2 3 4| \n",
    "# |1 1 0 4 |        \n",
    " \n",
    " "
   ]
  },
  {
   "cell_type": "markdown",
   "metadata": {},
   "source": [
    "# Symmetric Matrix\n",
    "## is a square matrix  same rows and columns\n",
    "# | 1 -1  0| \n",
    "# |-1 -2 -4| \n",
    "# | 0 -4  5| \n",
    "### Symmetric \n",
    "# mirror numbers \n",
    "\n"
   ]
  },
  {
   "cell_type": "markdown",
   "metadata": {},
   "source": [
    "# identity matrix \n",
    "# | 1 0 0 | \n",
    "# | 0 1 0 | \n",
    "# | 0 0 1 | \n",
    "# refer to I"
   ]
  },
  {
   "cell_type": "markdown",
   "metadata": {},
   "source": [
    "# Diagonal matrix \n",
    "# |1 0 0 | \n",
    "# |0 2 0 | \n",
    "# |0 0 4 | \n",
    "# the off diagonal numbers are 0  \n",
    "# can be square or not \n",
    "# Diagonal matrix \n",
    "# |1 0 0 0 0|  this is as well a Diagonal \n",
    "# |0 2 0 0 0|  Matrix.\n",
    "# |0 0 4 0 0| \n"
   ]
  },
  {
   "cell_type": "code",
   "execution_count": 3,
   "metadata": {},
   "outputs": [
    {
     "data": {
      "text/plain": [
       "array([[1., 0., 0., 0., 0., 0.],\n",
       "       [0., 1., 0., 0., 0., 0.],\n",
       "       [0., 0., 1., 0., 0., 0.],\n",
       "       [0., 0., 0., 1., 0., 0.],\n",
       "       [0., 0., 0., 0., 1., 0.],\n",
       "       [0., 0., 0., 0., 0., 1.]])"
      ]
     },
     "execution_count": 3,
     "metadata": {},
     "output_type": "execute_result"
    }
   ],
   "source": [
    "# identity matrix with numpy :)\n",
    "import numpy as np\n",
    "np.eye (6)"
   ]
  },
  {
   "cell_type": "code",
   "execution_count": 6,
   "metadata": {},
   "outputs": [
    {
     "data": {
      "text/plain": [
       "array([[0., 0., 0., 0., 0.],\n",
       "       [0., 0., 0., 0., 0.],\n",
       "       [0., 0., 0., 0., 0.],\n",
       "       [0., 0., 0., 0., 0.],\n",
       "       [0., 0., 0., 0., 0.],\n",
       "       [0., 0., 0., 0., 0.]])"
      ]
     },
     "execution_count": 6,
     "metadata": {},
     "output_type": "execute_result"
    }
   ],
   "source": [
    "np.zeros ((6,5))"
   ]
  },
  {
   "cell_type": "code",
   "execution_count": 10,
   "metadata": {},
   "outputs": [
    {
     "data": {
      "text/plain": [
       "array([[8, 8, 8, 8],\n",
       "       [8, 8, 8, 8],\n",
       "       [8, 8, 8, 8],\n",
       "       [8, 8, 8, 8],\n",
       "       [8, 8, 8, 8]])"
      ]
     },
     "execution_count": 10,
     "metadata": {},
     "output_type": "execute_result"
    }
   ],
   "source": [
    "np.full((5,4),8)"
   ]
  },
  {
   "cell_type": "code",
   "execution_count": 12,
   "metadata": {},
   "outputs": [
    {
     "name": "stdout",
     "output_type": "stream",
     "text": [
      "[[1 2 3]\n",
      " [4 5 6]\n",
      " [7 8 9]]\n"
     ]
    }
   ],
   "source": [
    "m = np.array([[1,2,3],\n",
    "              [4,5,6],\n",
    "              [7,8,9]])\n",
    "print(m)"
   ]
  },
  {
   "cell_type": "code",
   "execution_count": null,
   "metadata": {},
   "outputs": [],
   "source": [
    "#assigment!\n",
    "#create 3 matrices: 2x2, 2x2, 3x2\n",
    "#compute scalar-matrix multiplication \n",
    "# add all pairs of matrices "
   ]
  },
  {
   "cell_type": "code",
   "execution_count": 19,
   "metadata": {},
   "outputs": [
    {
     "name": "stdout",
     "output_type": "stream",
     "text": [
      "[[6 6]\n",
      " [6 6]]\n",
      "[[0. 0.]\n",
      " [0. 0.]]\n",
      "[[ 3  6]\n",
      " [ 9 12]\n",
      " [15 18]]\n",
      "[[2. 2.]\n",
      " [2. 2.]]\n",
      "[[3 4]\n",
      " [5 6]]\n"
     ]
    }
   ],
   "source": [
    "m_1 = np.full((2,2), 2)\n",
    "m_2 = np.zeros ((2,2))\n",
    "m_3 = np.array([[1,2],\n",
    "                [3,4],\n",
    "                [5,6]])\n",
    "m_4 = np.array([[1,2],\n",
    "                [3,4]])\n",
    "scalar = 3\n",
    "\n",
    "result = m_1 * scalar\n",
    "result_2 = m_2 * scalar\n",
    "result_3 = m_3 * scalar\n",
    "print(result)\n",
    "print(result_2)\n",
    "print(result_3)\n",
    "#addition\n",
    "result_4 = m_1 + m_2\n",
    "#result_5 = m_1 + m_3 it is not possible to add matrices with different dimensions\n",
    "#result_6 = m_2 + m_3 same problem \n",
    "result_7 = m_1 + m_4\n",
    "print(result_4)\n",
    "#print(result_5) error \n",
    "#print(result_6) same error\n",
    "print(result_7)"
   ]
  }
 ],
 "metadata": {
  "kernelspec": {
   "display_name": "virtual_space",
   "language": "python",
   "name": "python3"
  },
  "language_info": {
   "codemirror_mode": {
    "name": "ipython",
    "version": 3
   },
   "file_extension": ".py",
   "mimetype": "text/x-python",
   "name": "python",
   "nbconvert_exporter": "python",
   "pygments_lexer": "ipython3",
   "version": "3.11.6"
  }
 },
 "nbformat": 4,
 "nbformat_minor": 2
}
